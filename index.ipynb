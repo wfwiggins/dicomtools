{
 "cells": [
  {
   "cell_type": "code",
   "execution_count": null,
   "metadata": {},
   "outputs": [],
   "source": [
    "#hide\n",
    "from dicomtools.basics import *\n",
    "from dicomtools.core import *"
   ]
  },
  {
   "cell_type": "markdown",
   "metadata": {},
   "source": [
    "# DICOM Tools\n",
    "\n",
    "> A Python toolkit for parsing and analyzing metadata from DICOM files."
   ]
  },
  {
   "cell_type": "markdown",
   "metadata": {},
   "source": [
    "This project utilizes the `pydicom` and `fastcore` libraries. It borrows ideas (and some code) from the `fastai.medical.imaging` library ([source](https://github.com/fastai/fastai/blob/master/fastai/medical/imaging.py)).\n",
    "\n",
    "The metadata preprocessing and series selection algorithm are recreated from the paper by Gauriau et al. (_reference below_), in which a Random Forest classifier is trained to predict the sequence type (e.g. T1, T2, FLAIR, ...) of series of images from brain MRI. Such a tool may be used to select the appropriate series of images for input into a machine learning pipeline.\n",
    "\n",
    "> _Reference:_ Gauriau R, et al. Using DICOM Metadata for Radiological Image Series Categorization: a Feasibility Study on Large Clinical Brain MRI Datasets. _Journal of Digital Imaging_. 2020 Jan; 33:747–762. ([link to paper](https://link.springer.com/article/10.1007/s10278-019-00308-x))"
   ]
  },
  {
   "cell_type": "markdown",
   "metadata": {},
   "source": [
    "## Install"
   ]
  },
  {
   "cell_type": "markdown",
   "metadata": {},
   "source": [
    "1. `git clone` the repository\n",
    "2. `cd` into the repo\n",
    "3. `pip install .` (include the `-e` flag for an editable install)"
   ]
  },
  {
   "cell_type": "markdown",
   "metadata": {},
   "source": [
    "## How to use"
   ]
  },
  {
   "cell_type": "markdown",
   "metadata": {},
   "source": [
    "Read a DICOM file:"
   ]
  },
  {
   "cell_type": "code",
   "execution_count": null,
   "metadata": {},
   "outputs": [
    {
     "data": {
      "text/plain": [
       "(0002, 0000) File Meta Information Group Length  UL: 190\n",
       "(0002, 0001) File Meta Information Version       OB: b'\\x00\\x01'\n",
       "(0002, 0002) Media Storage SOP Class UID         UI: MR Image Storage\n",
       "(0002, 0003) Media Storage SOP Instance UID      UI: 1.3.6.1.4.1.5962.1.1.4.1.1.20040826185059.5457\n",
       "(0002, 0010) Transfer Syntax UID                 UI: Explicit VR Little Endian\n",
       "(0002, 0012) Implementation Class UID            UI: 1.3.6.1.4.1.5962.2\n",
       "(0002, 0013) Implementation Version Name         SH: 'DCTOOL100'\n",
       "(0002, 0016) Source Application Entity Title     AE: 'CLUNIE1'"
      ]
     },
     "execution_count": null,
     "metadata": {},
     "output_type": "execute_result"
    }
   ],
   "source": [
    "from pydicom.data import get_testdata_file\n",
    "\n",
    "fn = Path(get_testdata_file(\"MR_small.dcm\"))\n",
    "ds = fn.dcmread(fn)\n",
    "ds.file_meta"
   ]
  },
  {
   "cell_type": "markdown",
   "metadata": {},
   "source": [
    "Import a select subset of DICOM metadata into a `pandas.DataFrame`. The subset is defined in `dicomtools.core` and is based on the metadata used for the series selection algorithm in the paper referenced above."
   ]
  },
  {
   "cell_type": "code",
   "execution_count": null,
   "metadata": {},
   "outputs": [
    {
     "data": {
      "text/html": [
       "<div>\n",
       "<style scoped>\n",
       "    .dataframe tbody tr th:only-of-type {\n",
       "        vertical-align: middle;\n",
       "    }\n",
       "\n",
       "    .dataframe tbody tr th {\n",
       "        vertical-align: top;\n",
       "    }\n",
       "\n",
       "    .dataframe thead th {\n",
       "        text-align: right;\n",
       "    }\n",
       "</style>\n",
       "<table border=\"1\" class=\"dataframe\">\n",
       "  <thead>\n",
       "    <tr style=\"text-align: right;\">\n",
       "      <th></th>\n",
       "      <th>0</th>\n",
       "    </tr>\n",
       "  </thead>\n",
       "  <tbody>\n",
       "    <tr>\n",
       "      <th>ImageType</th>\n",
       "      <td>[DERIVED, SECONDARY, OTHER]</td>\n",
       "    </tr>\n",
       "    <tr>\n",
       "      <th>SOPClassUID</th>\n",
       "      <td>MR Image Storage</td>\n",
       "    </tr>\n",
       "    <tr>\n",
       "      <th>ContrastBolusAgent</th>\n",
       "      <td></td>\n",
       "    </tr>\n",
       "    <tr>\n",
       "      <th>ScanningSequence</th>\n",
       "      <td>SE</td>\n",
       "    </tr>\n",
       "    <tr>\n",
       "      <th>SequenceVariant</th>\n",
       "      <td>NONE</td>\n",
       "    </tr>\n",
       "    <tr>\n",
       "      <th>ScanOptions</th>\n",
       "      <td></td>\n",
       "    </tr>\n",
       "    <tr>\n",
       "      <th>MRAcquisitionType</th>\n",
       "      <td>3D</td>\n",
       "    </tr>\n",
       "    <tr>\n",
       "      <th>SliceThickness</th>\n",
       "      <td>0.8</td>\n",
       "    </tr>\n",
       "    <tr>\n",
       "      <th>RepetitionTime</th>\n",
       "      <td>4000</td>\n",
       "    </tr>\n",
       "    <tr>\n",
       "      <th>EchoTime</th>\n",
       "      <td>240</td>\n",
       "    </tr>\n",
       "    <tr>\n",
       "      <th>EchoTrainLength</th>\n",
       "      <td>None</td>\n",
       "    </tr>\n",
       "    <tr>\n",
       "      <th>ImageOrientationPatient</th>\n",
       "      <td>[1.0000, 0.0000, 0.0000, 0.0000, 1.0000, 0.0000]</td>\n",
       "    </tr>\n",
       "    <tr>\n",
       "      <th>PhotometricInterpretation</th>\n",
       "      <td>MONOCHROME2</td>\n",
       "    </tr>\n",
       "    <tr>\n",
       "      <th>PixelSpacing</th>\n",
       "      <td>[0.3125, 0.3125]</td>\n",
       "    </tr>\n",
       "  </tbody>\n",
       "</table>\n",
       "</div>"
      ],
      "text/plain": [
       "                                                                          0\n",
       "ImageType                                       [DERIVED, SECONDARY, OTHER]\n",
       "SOPClassUID                                                MR Image Storage\n",
       "ContrastBolusAgent                                                         \n",
       "ScanningSequence                                                         SE\n",
       "SequenceVariant                                                        NONE\n",
       "ScanOptions                                                                \n",
       "MRAcquisitionType                                                        3D\n",
       "SliceThickness                                                          0.8\n",
       "RepetitionTime                                                         4000\n",
       "EchoTime                                                                240\n",
       "EchoTrainLength                                                        None\n",
       "ImageOrientationPatient    [1.0000, 0.0000, 0.0000, 0.0000, 1.0000, 0.0000]\n",
       "PhotometricInterpretation                                       MONOCHROME2\n",
       "PixelSpacing                                               [0.3125, 0.3125]"
      ]
     },
     "execution_count": null,
     "metadata": {},
     "output_type": "execute_result"
    }
   ],
   "source": [
    "df = pd.DataFrame.from_dicoms([fn]).drop('fname', axis=1)\n",
    "df.T"
   ]
  },
  {
   "cell_type": "code",
   "execution_count": null,
   "metadata": {},
   "outputs": [],
   "source": []
  }
 ],
 "metadata": {
  "kernelspec": {
   "display_name": "Python 3",
   "language": "python",
   "name": "python3"
  }
 },
 "nbformat": 4,
 "nbformat_minor": 4
}
