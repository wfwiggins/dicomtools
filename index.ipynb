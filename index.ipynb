{
 "cells": [
  {
   "cell_type": "code",
   "execution_count": null,
   "metadata": {},
   "outputs": [],
   "source": [
    "#hide\n",
    "import pandas as pd\n",
    "from fastcore.all import *\n",
    "from dicomtools.core import *"
   ]
  },
  {
   "cell_type": "markdown",
   "metadata": {},
   "source": [
    "# DICOM Tools\n",
    "\n",
    "> A Python toolkit for parsing and analyzing metadata from DICOM files."
   ]
  },
  {
   "cell_type": "markdown",
   "metadata": {},
   "source": [
    "This project utilizes the `pydicom` and `fastcore` libraries. It borrows ideas (and some code) from the `fastai.medical.imaging` library ([source](https://github.com/fastai/fastai/blob/master/fastai/medical/imaging.py))."
   ]
  },
  {
   "cell_type": "markdown",
   "metadata": {},
   "source": [
    "## Install"
   ]
  },
  {
   "cell_type": "markdown",
   "metadata": {},
   "source": [
    "1. `git clone` the repository\n",
    "2. `cd` into the repo\n",
    "3. `pip install -e .`"
   ]
  },
  {
   "cell_type": "markdown",
   "metadata": {},
   "source": [
    "## How to use"
   ]
  },
  {
   "cell_type": "markdown",
   "metadata": {},
   "source": [
    "Read a DICOM file:"
   ]
  },
  {
   "cell_type": "code",
   "execution_count": null,
   "metadata": {},
   "outputs": [
    {
     "data": {
      "text/plain": [
       "Dataset.file_meta -------------------------------\n",
       "(0002, 0000) File Meta Information Group Length  UL: 190\n",
       "(0002, 0001) File Meta Information Version       OB: b'\\x00\\x01'\n",
       "(0002, 0002) Media Storage SOP Class UID         UI: MR Image Storage\n",
       "(0002, 0003) Media Storage SOP Instance UID      UI: 1.3.6.1.4.1.5962.1.1.4.1.1.20040826185059.5457\n",
       "(0002, 0010) Transfer Syntax UID                 UI: Explicit VR Little Endian\n",
       "(0002, 0012) Implementation Class UID            UI: 1.3.6.1.4.1.5962.2\n",
       "(0002, 0013) Implementation Version Name         SH: 'DCTOOL100'\n",
       "(0002, 0016) Source Application Entity Title     AE: 'CLUNIE1'\n",
       "-------------------------------------------------\n",
       "(0008, 0008) Image Type                          CS: ['DERIVED', 'SECONDARY', 'OTHER']\n",
       "(0008, 0012) Instance Creation Date              DA: '20040826'\n",
       "(0008, 0013) Instance Creation Time              TM: '185434'\n",
       "(0008, 0014) Instance Creator UID                UI: 1.3.6.1.4.1.5962.3\n",
       "(0008, 0016) SOP Class UID                       UI: MR Image Storage\n",
       "(0008, 0018) SOP Instance UID                    UI: 1.3.6.1.4.1.5962.1.1.4.1.1.20040826185059.5457\n",
       "(0008, 0020) Study Date                          DA: '20040826'\n",
       "(0008, 0021) Series Date                         DA: ''\n",
       "(0008, 0022) Acquisition Date                    DA: ''\n",
       "(0008, 0030) Study Time                          TM: '185059'\n",
       "(0008, 0031) Series Time                         TM: ''\n",
       "(0008, 0032) Acquisition Time                    TM: ''\n",
       "(0008, 0050) Accession Number                    SH: ''\n",
       "(0008, 0060) Modality                            CS: 'MR'\n",
       "(0008, 0070) Manufacturer                        LO: 'TOSHIBA_MEC'\n",
       "(0008, 0080) Institution Name                    LO: 'TOSHIBA'\n",
       "(0008, 0090) Referring Physician's Name          PN: ''\n",
       "(0008, 0201) Timezone Offset From UTC            SH: '-0400'\n",
       "(0008, 1010) Station Name                        SH: '000000000'\n",
       "(0008, 1060) Name of Physician(s) Reading Study  PN: '----'\n",
       "(0008, 1070) Operators' Name                     PN: '----'\n",
       "(0008, 1090) Manufacturer's Model Name           LO: 'MRT50H1'\n",
       "(0010, 0010) Patient's Name                      PN: 'CompressedSamples^MR1'\n",
       "(0010, 0020) Patient ID                          LO: '4MR1'\n",
       "(0010, 0030) Patient's Birth Date                DA: ''\n",
       "(0010, 0040) Patient's Sex                       CS: 'F'\n",
       "(0010, 1020) Patient's Size                      DS: None\n",
       "(0010, 1030) Patient's Weight                    DS: \"80.0\"\n",
       "(0018, 0010) Contrast/Bolus Agent                LO: ''\n",
       "(0018, 0020) Scanning Sequence                   CS: 'SE'\n",
       "(0018, 0021) Sequence Variant                    CS: 'NONE'\n",
       "(0018, 0022) Scan Options                        CS: ''\n",
       "(0018, 0023) MR Acquisition Type                 CS: '3D'\n",
       "(0018, 0050) Slice Thickness                     DS: \"0.8\"\n",
       "(0018, 0080) Repetition Time                     DS: \"4000.0\"\n",
       "(0018, 0081) Echo Time                           DS: \"240.0\"\n",
       "(0018, 0083) Number of Averages                  DS: \"1.0\"\n",
       "(0018, 0084) Imaging Frequency                   DS: \"63.924339\"\n",
       "(0018, 0085) Imaged Nucleus                      SH: 'H'\n",
       "(0018, 0086) Echo Number(s)                      IS: \"1\"\n",
       "(0018, 0091) Echo Train Length                   IS: None\n",
       "(0018, 1000) Device Serial Number                LO: '-0000200'\n",
       "(0018, 1020) Software Versions                   LO: 'V3.51*P25'\n",
       "(0018, 1314) Flip Angle                          DS: \"90.0\"\n",
       "(0018, 5100) Patient Position                    CS: 'HFS'\n",
       "(0020, 000d) Study Instance UID                  UI: 1.3.6.1.4.1.5962.1.2.4.20040826185059.5457\n",
       "(0020, 000e) Series Instance UID                 UI: 1.3.6.1.4.1.5962.1.3.4.1.20040826185059.5457\n",
       "(0020, 0010) Study ID                            SH: '4MR1'\n",
       "(0020, 0011) Series Number                       IS: \"1\"\n",
       "(0020, 0012) Acquisition Number                  IS: \"0\"\n",
       "(0020, 0013) Instance Number                     IS: \"1\"\n",
       "(0020, 0032) Image Position (Patient)            DS: [-83.9063, -91.2000, 6.6406]\n",
       "(0020, 0037) Image Orientation (Patient)         DS: [1.0000, 0.0000, 0.0000, 0.0000, 1.0000, 0.0000]\n",
       "(0020, 0052) Frame of Reference UID              UI: 1.3.6.1.4.1.5962.1.4.4.1.20040826185059.5457\n",
       "(0020, 0060) Laterality                          CS: ''\n",
       "(0020, 1040) Position Reference Indicator        LO: ''\n",
       "(0020, 1041) Slice Location                      DS: \"0.0\"\n",
       "(0020, 4000) Image Comments                      LT: 'Uncompressed'\n",
       "(0028, 0002) Samples per Pixel                   US: 1\n",
       "(0028, 0004) Photometric Interpretation          CS: 'MONOCHROME2'\n",
       "(0028, 0010) Rows                                US: 64\n",
       "(0028, 0011) Columns                             US: 64\n",
       "(0028, 0030) Pixel Spacing                       DS: [0.3125, 0.3125]\n",
       "(0028, 0100) Bits Allocated                      US: 16\n",
       "(0028, 0101) Bits Stored                         US: 16\n",
       "(0028, 0102) High Bit                            US: 15\n",
       "(0028, 0103) Pixel Representation                US: 1\n",
       "(0028, 0106) Smallest Image Pixel Value          SS: 0\n",
       "(0028, 0107) Largest Image Pixel Value           SS: 4000\n",
       "(0028, 1050) Window Center                       DS: \"600.0\"\n",
       "(0028, 1051) Window Width                        DS: \"1600.0\""
      ]
     },
     "execution_count": null,
     "metadata": {},
     "output_type": "execute_result"
    }
   ],
   "source": [
    "from pydicom.data import get_testdata_file\n",
    "\n",
    "fn = Path(get_testdata_file(\"MR_small.dcm\"))\n",
    "ds = fn.dcmread(fn)\n",
    "ds"
   ]
  },
  {
   "cell_type": "markdown",
   "metadata": {},
   "source": [
    "Import a select subset of DICOM metadata into a `pandas.DataFrame`. The subset is defined as a `dict` in `dicomtools.core`. The DICOM Group `(0x0018)` is also included by default."
   ]
  },
  {
   "cell_type": "code",
   "execution_count": null,
   "metadata": {},
   "outputs": [
    {
     "data": {
      "text/html": [
       "<div>\n",
       "<style scoped>\n",
       "    .dataframe tbody tr th:only-of-type {\n",
       "        vertical-align: middle;\n",
       "    }\n",
       "\n",
       "    .dataframe tbody tr th {\n",
       "        vertical-align: top;\n",
       "    }\n",
       "\n",
       "    .dataframe thead th {\n",
       "        text-align: right;\n",
       "    }\n",
       "</style>\n",
       "<table border=\"1\" class=\"dataframe\">\n",
       "  <thead>\n",
       "    <tr style=\"text-align: right;\">\n",
       "      <th></th>\n",
       "      <th>SOPClassUID</th>\n",
       "      <th>SOPInstanceUID</th>\n",
       "      <th>StudyDate</th>\n",
       "      <th>PatientID</th>\n",
       "      <th>ContrastBolusAgent</th>\n",
       "      <th>ScanningSequence</th>\n",
       "      <th>SequenceVariant</th>\n",
       "      <th>ScanOptions</th>\n",
       "      <th>MRAcquisitionType</th>\n",
       "      <th>SliceThickness</th>\n",
       "      <th>...</th>\n",
       "      <th>DeviceSerialNumber</th>\n",
       "      <th>SoftwareVersions</th>\n",
       "      <th>FlipAngle</th>\n",
       "      <th>PatientPosition</th>\n",
       "      <th>StudyInstanceUID</th>\n",
       "      <th>SeriesInstanceUID</th>\n",
       "      <th>SeriesNumber</th>\n",
       "      <th>InstanceNumber</th>\n",
       "      <th>WindowCenter</th>\n",
       "      <th>WindowWidth</th>\n",
       "    </tr>\n",
       "  </thead>\n",
       "  <tbody>\n",
       "    <tr>\n",
       "      <th>0</th>\n",
       "      <td>MR Image Storage</td>\n",
       "      <td>1.3.6.1.4.1.5962.1.1.4.1.1.20040826185059.5457</td>\n",
       "      <td>20040826</td>\n",
       "      <td>4MR1</td>\n",
       "      <td></td>\n",
       "      <td>SE</td>\n",
       "      <td>NONE</td>\n",
       "      <td></td>\n",
       "      <td>3D</td>\n",
       "      <td>0.8</td>\n",
       "      <td>...</td>\n",
       "      <td>-0000200</td>\n",
       "      <td>V3.51*P25</td>\n",
       "      <td>90.0</td>\n",
       "      <td>HFS</td>\n",
       "      <td>1.3.6.1.4.1.5962.1.2.4.20040826185059.5457</td>\n",
       "      <td>1.3.6.1.4.1.5962.1.3.4.1.20040826185059.5457</td>\n",
       "      <td>1</td>\n",
       "      <td>1</td>\n",
       "      <td>600.0</td>\n",
       "      <td>1600.0</td>\n",
       "    </tr>\n",
       "  </tbody>\n",
       "</table>\n",
       "<p>1 rows × 27 columns</p>\n",
       "</div>"
      ],
      "text/plain": [
       "        SOPClassUID                                  SOPInstanceUID StudyDate  \\\n",
       "0  MR Image Storage  1.3.6.1.4.1.5962.1.1.4.1.1.20040826185059.5457  20040826   \n",
       "\n",
       "  PatientID ContrastBolusAgent ScanningSequence SequenceVariant ScanOptions  \\\n",
       "0      4MR1                                  SE            NONE               \n",
       "\n",
       "  MRAcquisitionType  SliceThickness  ...  DeviceSerialNumber  \\\n",
       "0                3D             0.8  ...            -0000200   \n",
       "\n",
       "   SoftwareVersions  FlipAngle  PatientPosition  \\\n",
       "0         V3.51*P25       90.0              HFS   \n",
       "\n",
       "                             StudyInstanceUID  \\\n",
       "0  1.3.6.1.4.1.5962.1.2.4.20040826185059.5457   \n",
       "\n",
       "                              SeriesInstanceUID SeriesNumber InstanceNumber  \\\n",
       "0  1.3.6.1.4.1.5962.1.3.4.1.20040826185059.5457            1              1   \n",
       "\n",
       "  WindowCenter  WindowWidth  \n",
       "0        600.0       1600.0  \n",
       "\n",
       "[1 rows x 27 columns]"
      ]
     },
     "execution_count": null,
     "metadata": {},
     "output_type": "execute_result"
    }
   ],
   "source": [
    "df = pd.DataFrame.from_dicoms([fn]).drop('fname', axis=1)\n",
    "df.T"
   ]
  },
  {
   "cell_type": "code",
   "execution_count": null,
   "metadata": {},
   "outputs": [],
   "source": []
  }
 ],
 "metadata": {
  "kernelspec": {
   "display_name": "Python 3",
   "language": "python",
   "name": "python3"
  },
  "language_info": {
   "codemirror_mode": {
    "name": "ipython",
    "version": 3
   },
   "file_extension": ".py",
   "mimetype": "text/x-python",
   "name": "python",
   "nbconvert_exporter": "python",
   "pygments_lexer": "ipython3",
   "version": "3.7.8"
  }
 },
 "nbformat": 4,
 "nbformat_minor": 2
}
