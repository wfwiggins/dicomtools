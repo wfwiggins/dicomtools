{
 "cells": [
  {
   "cell_type": "code",
   "execution_count": null,
   "metadata": {},
   "outputs": [],
   "source": [
    "# default_exp series.find"
   ]
  },
  {
   "cell_type": "markdown",
   "metadata": {},
   "source": [
    "# series.find\n",
    "> Tools for taking a given filepath and searching for a specific type of MR series within the DICOM files on that path"
   ]
  },
  {
   "cell_type": "code",
   "execution_count": null,
   "metadata": {},
   "outputs": [],
   "source": [
    "#hide\n",
    "from nbdev.showdoc import *"
   ]
  },
  {
   "cell_type": "code",
   "execution_count": null,
   "metadata": {},
   "outputs": [],
   "source": [
    "#export\n",
    "from dicomtools.basics import *\n",
    "from dicomtools.series.predict import *"
   ]
  },
  {
   "cell_type": "code",
   "execution_count": null,
   "metadata": {},
   "outputs": [],
   "source": [
    "#export\n",
    "model_path = Path('dicomtools/models/mr-brain-series-select-rf.skl')\n",
    "\n",
    "_planes = ['ax', 'cor', 'sag']\n",
    "_y_names = pd.Index([\n",
    "    't1', \n",
    "    't2',\n",
    "    'swi', \n",
    "    'dwi', \n",
    "    'other', \n",
    "    'flair', \n",
    "    'adc', \n",
    "    'loc', \n",
    "    'spgr',\n",
    "    'mra'\n",
    "])\n",
    "\n",
    "_features = ['MRAcquisitionType', 'AngioFlag', 'SliceThickness', 'RepetitionTime',\n",
    "       'EchoTime', 'EchoTrainLength', 'PixelSpacing', 'ContrastBolusAgent',\n",
    "       'InversionTime', 'DiffusionBValue', 'seq_E', 'seq_EP', 'seq_G',\n",
    "       'seq_GR', 'seq_I', 'seq_IR', 'seq_M', 'seq_P', 'seq_R', 'seq_S',\n",
    "       'seq_SE', 'var_E', 'var_K', 'var_MP', 'var_MTC', 'var_N', 'var_O',\n",
    "       'var_OSP', 'var_P', 'var_S', 'var_SK', 'var_SP', 'var_SS', 'var_TOF',\n",
    "       'opt_1', 'opt_2', 'opt_A', 'opt_ACC_GEMS', 'opt_B', 'opt_C', 'opt_D',\n",
    "       'opt_E', 'opt_EDR_GEMS', 'opt_EPI_GEMS', 'opt_F', 'opt_FAST_GEMS',\n",
    "       'opt_FC', 'opt_FC_FREQ_AX_GEMS', 'opt_FC_SLICE_AX_GEMS',\n",
    "       'opt_FILTERED_GEMS', 'opt_FR_GEMS', 'opt_FS', 'opt_FSA_GEMS',\n",
    "       'opt_FSI_GEMS', 'opt_FSL_GEMS', 'opt_FSP_GEMS', 'opt_FSS_GEMS', 'opt_G',\n",
    "       'opt_I', 'opt_IFLOW_GEMS', 'opt_IR', 'opt_IR_GEMS', 'opt_L', 'opt_M',\n",
    "       'opt_MP_GEMS', 'opt_MT', 'opt_MT_GEMS', 'opt_NPW', 'opt_P', 'opt_PFF',\n",
    "       'opt_PFP', 'opt_PROP_GEMS', 'opt_R', 'opt_RAMP_IS_GEMS', 'opt_S',\n",
    "       'opt_SAT1', 'opt_SAT2', 'opt_SAT_GEMS', 'opt_SEQ_GEMS', 'opt_SP',\n",
    "       'opt_T', 'opt_T2FLAIR_GEMS', 'opt_TRF_GEMS', 'opt_VASCTOF_GEMS',\n",
    "       'opt_VB_GEMS', 'opt_W', 'opt_X', 'opt__']\n",
    "\n",
    "_output_columns = [\n",
    "    'fname',\n",
    "    # Patient info\n",
    "    'PatientID',\n",
    "    # Study info\n",
    "    'StudyInstanceUID',\n",
    "    'StudyID',\n",
    "    # Series info\n",
    "    'SeriesInstanceUID',\n",
    "    'SeriesNumber',\n",
    "    'SeriesDescription',\n",
    "    'AcquisitionNumber',\n",
    "    # Image info and features\n",
    "    'InstanceNumber',\n",
    "    # extracted values\n",
    "    'plane',\n",
    "    'contrast'\n",
    "]\n"
   ]
  },
  {
   "cell_type": "code",
   "execution_count": null,
   "metadata": {},
   "outputs": [],
   "source": [
    "#export\n",
    "class Finder():\n",
    "    \"A class for finding DICOM files of a specified sequence type from a specific .\"\n",
    "    def __init__(self, path):\n",
    "        self.root = path\n",
    "        self.fns, self.dicoms = get_dicoms(self.root)\n",
    "        self.dicoms = preprocess(self.dicoms)\n",
    "        self.labels = extract_labels(self.dicoms)\n",
    "        self.dicoms = self.dicoms.join(self.labels[['plane', 'contrast']])\n",
    "        \n",
    "    def predict(self,  model_path=model_path, features=_features, ynames=_y_names, **kwargs):\n",
    "        try:\n",
    "            self.clf = load(model_path)\n",
    "        except FileNotFoundError as e:\n",
    "            print(\"No model found. Try again by passing the `model_path` keyword argument.\")\n",
    "            raise\n",
    "        self.features = features\n",
    "        self.ynames = ynames\n",
    "        preds = self.clf.predict(self.dicoms[features])\n",
    "        self.preds = ynames.take(preds)\n",
    "        self.probas = self.clf.predict_proba(self.dicoms[features])\n",
    "        \n",
    "    def find(self, plane='ax', seq='t1', contrast=True, thresh=0.8, **kwargs):\n",
    "        try:\n",
    "            self.probas\n",
    "        except AttributeError:\n",
    "            print(\"Prediction not yet performed. Please run `Finder.predict()` and try again.\")\n",
    "            raise\n",
    "        preds = np.argwhere(self.probas > 0.8)\n",
    "        ind = preds[:, 0]\n",
    "        pred_names = _y_names.take(preds[:, 1])\n",
    "        df = pd.DataFrame(pred_names, index=ind, columns=['seq_pred'])\n",
    "        df = self.dicoms[_output_columns].join(df)\n",
    "        return df.query(f'plane == \"{plane}\" and seq_pred == \"{seq}\" and contrast == {int(contrast)}')\n",
    "    "
   ]
  },
  {
   "cell_type": "code",
   "execution_count": null,
   "metadata": {},
   "outputs": [],
   "source": [
    "#export\n",
    "add_docs(Finder,\n",
    "         predict=\"Obtains predictions from the model specified in `model_path`\",\n",
    "         find=\"Returns a `pandas.DataFrame` with predicted sequences matching the query at the specified threshold\")"
   ]
  },
  {
   "cell_type": "code",
   "execution_count": null,
   "metadata": {},
   "outputs": [],
   "source": []
  }
 ],
 "metadata": {
  "kernelspec": {
   "display_name": "Python 3",
   "language": "python",
   "name": "python3"
  }
 },
 "nbformat": 4,
 "nbformat_minor": 4
}
