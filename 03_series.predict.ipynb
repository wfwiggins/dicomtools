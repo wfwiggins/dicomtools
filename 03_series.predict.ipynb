{
 "cells": [
  {
   "cell_type": "code",
   "execution_count": 1,
   "metadata": {},
   "outputs": [],
   "source": [
    "# default_exp series.predict"
   ]
  },
  {
   "cell_type": "markdown",
   "metadata": {},
   "source": [
    "# series.predict\n",
    "> Methods for predicting MRI series types using a previously trained `RandomForestClassifier` trained with `scikit-learn`."
   ]
  },
  {
   "cell_type": "code",
   "execution_count": 2,
   "metadata": {},
   "outputs": [],
   "source": [
    "#export\n",
    "from dicomtools.basics import *\n",
    "from dicomtools.core import *\n",
    "from dicomtools.preproc import *\n",
    "\n",
    "from joblib import load"
   ]
  },
  {
   "cell_type": "code",
   "execution_count": 3,
   "metadata": {},
   "outputs": [],
   "source": [
    "#export\n",
    "path = Path('dicomtools/models')\n",
    "_model_path = path/'mr-brain-series-select-rf.skl'\n",
    "\n",
    "_y_names = pd.Index([\n",
    "    't1', \n",
    "    't2',\n",
    "    'swi', \n",
    "    'dwi', \n",
    "    'other', \n",
    "    'flair', \n",
    "    'adc', \n",
    "    'loc', \n",
    "    'spgr',\n",
    "    'mra'\n",
    "])\n",
    "\n",
    "_features = ['MRAcquisitionType', 'AngioFlag', 'SliceThickness', 'RepetitionTime',\n",
    "       'EchoTime', 'EchoTrainLength', 'PixelSpacing', 'ContrastBolusAgent',\n",
    "       'InversionTime', 'DiffusionBValue', 'seq_E', 'seq_EP', 'seq_G',\n",
    "       'seq_GR', 'seq_I', 'seq_IR', 'seq_M', 'seq_P', 'seq_R', 'seq_S',\n",
    "       'seq_SE', 'var_E', 'var_K', 'var_MP', 'var_MTC', 'var_N', 'var_O',\n",
    "       'var_OSP', 'var_P', 'var_S', 'var_SK', 'var_SP', 'var_SS', 'var_TOF',\n",
    "       'opt_1', 'opt_2', 'opt_A', 'opt_ACC_GEMS', 'opt_B', 'opt_C', 'opt_D',\n",
    "       'opt_E', 'opt_EDR_GEMS', 'opt_EPI_GEMS', 'opt_F', 'opt_FAST_GEMS',\n",
    "       'opt_FC', 'opt_FC_FREQ_AX_GEMS', 'opt_FC_SLICE_AX_GEMS',\n",
    "       'opt_FILTERED_GEMS', 'opt_FR_GEMS', 'opt_FS', 'opt_FSA_GEMS',\n",
    "       'opt_FSI_GEMS', 'opt_FSL_GEMS', 'opt_FSP_GEMS', 'opt_FSS_GEMS', 'opt_G',\n",
    "       'opt_I', 'opt_IFLOW_GEMS', 'opt_IR', 'opt_IR_GEMS', 'opt_L', 'opt_M',\n",
    "       'opt_MP_GEMS', 'opt_MT', 'opt_MT_GEMS', 'opt_NPW', 'opt_P', 'opt_PFF',\n",
    "       'opt_PFP', 'opt_PROP_GEMS', 'opt_R', 'opt_RAMP_IS_GEMS', 'opt_S',\n",
    "       'opt_SAT1', 'opt_SAT2', 'opt_SAT_GEMS', 'opt_SEQ_GEMS', 'opt_SP',\n",
    "       'opt_T', 'opt_T2FLAIR_GEMS', 'opt_TRF_GEMS', 'opt_VASCTOF_GEMS',\n",
    "       'opt_VB_GEMS', 'opt_W', 'opt_X', 'opt__']\n",
    "\n",
    "# need to add step to `preprocess()` to force these features as cols"
   ]
  },
  {
   "cell_type": "code",
   "execution_count": 4,
   "metadata": {},
   "outputs": [],
   "source": [
    "#export\n",
    "def _get_preds(clf, df, features, y_names=_y_names):\n",
    "    y_pred = clf.predict(df[features])\n",
    "    y_prob = clf.predict_proba(df[features])\n",
    "    preds = pd.Series(y_names.take(y_pred))\n",
    "    probas = pd.Series([y_prob[i][pred] for i, pred in enumerate(y_pred)])\n",
    "    return pd.DataFrame({'seq_pred': preds, 'pred_proba': probas})\n"
   ]
  },
  {
   "cell_type": "code",
   "execution_count": 5,
   "metadata": {},
   "outputs": [],
   "source": [
    "#export\n",
    "def predict_from_df(df, features=_features, thresh=0.8, path=_model_path, clf=None):\n",
    "    \"Predict series from df[features] at confidence threshold `p >= thresh`\"\n",
    "    if 'plane' not in df.columns:\n",
    "        df1 = preprocess(df)\n",
    "        labels = extract_labels(df1)\n",
    "        df1 = df1.join(labels[['plane', 'contrast', 'seq_label']])\n",
    "    else:\n",
    "        df1 = df.copy()\n",
    "    if not clf:\n",
    "        clf = load(path)\n",
    "    df1 = df1.join(_get_preds(clf, df1, features))\n",
    "    filt = df1['pred_proba'] < thresh\n",
    "    df1['seq_pred'][filt] = 'unknown'\n",
    "    return df1\n"
   ]
  }
 ],
 "metadata": {
  "kernelspec": {
   "display_name": "Python 3",
   "language": "python",
   "name": "python3"
  },
  "language_info": {
   "codemirror_mode": {
    "name": "ipython",
    "version": 3
   },
   "file_extension": ".py",
   "mimetype": "text/x-python",
   "name": "python",
   "nbconvert_exporter": "python",
   "pygments_lexer": "ipython3",
   "version": "3.7.8"
  }
 },
 "nbformat": 4,
 "nbformat_minor": 4
}
