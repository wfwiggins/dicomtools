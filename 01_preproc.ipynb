{
 "cells": [
  {
   "cell_type": "code",
   "execution_count": null,
   "metadata": {},
   "outputs": [],
   "source": [
    "# default_exp preproc"
   ]
  },
  {
   "cell_type": "markdown",
   "metadata": {},
   "source": [
    "# preproc\n",
    "\n",
    "> Tools for preprocessing DICOM metadata imported using `dicomtools.core` into in a `pandas.DataFrame` in preparation for training RandomForest classifier to predict series type."
   ]
  },
  {
   "cell_type": "code",
   "execution_count": 2,
   "metadata": {},
   "outputs": [],
   "source": [
    "#hide\n",
    "from nbdev.showdoc import *"
   ]
  },
  {
   "cell_type": "code",
   "execution_count": 3,
   "metadata": {},
   "outputs": [],
   "source": [
    "#export\n",
    "from dicomtools.basics import *\n",
    "from dicomtools.core import *\n",
    "\n",
    "from sklearn.preprocessing import MinMaxScaler\n",
    "from sklearn.preprocessing import MultiLabelBinarizer"
   ]
  },
  {
   "cell_type": "code",
   "execution_count": 4,
   "metadata": {},
   "outputs": [],
   "source": [
    "#export\n",
    "def exclude_other(df):\n",
    "    other = ['SPINE', 'CSPINE']\n",
    "    filt = df.BodyPartExamined.isin(other)\n",
    "    filt1 = df.SOPClassUID == \"MR Image Storage\"\n",
    "    df1 = df[~filt].copy()\n",
    "    return df1[filt1].reset_index(drop=True)\n"
   ]
  },
  {
   "cell_type": "code",
   "execution_count": 5,
   "metadata": {},
   "outputs": [],
   "source": [
    "#export\n",
    "def get_series_fp(fn): return Path(fn).parent"
   ]
  },
  {
   "cell_type": "code",
   "execution_count": 6,
   "metadata": {},
   "outputs": [],
   "source": [
    "#export\n",
    "def compute_plane(row):\n",
    "    '''\n",
    "    Computes the plane of imaging from the direction cosines provided in the `ImageOrientationPatient` field.\n",
    "    The format of the values in this field is: `[x1, y1, z1, x2, y2, z2]`,\n",
    "    which correspond to the direction cosines for the first row and column of the image pixel data.\n",
    "    '''\n",
    "    planes = ['sag', 'cor', 'ax']\n",
    "    if 'ImageOrientationPatient1' in row.keys():\n",
    "        dircos = [v for k,v in row.items() if 'ImageOrientationPatient' in k]\n",
    "    else:\n",
    "        dircos = row['ImageOrientationPatient']\n",
    "    dircos = np.array(dircos).reshape(2,3)\n",
    "    pnorm = abs(np.cross(dircos[0], dircos[1]))\n",
    "    return planes[np.argmax(pnorm)]\n"
   ]
  },
  {
   "cell_type": "code",
   "execution_count": 7,
   "metadata": {},
   "outputs": [],
   "source": [
    "#export\n",
    "_c = re.compile(r'(\\+-?c|post)')"
   ]
  },
  {
   "cell_type": "code",
   "execution_count": 8,
   "metadata": {},
   "outputs": [],
   "source": [
    "#export\n",
    "def detect_contrast(row):\n",
    "    if _c.search(row['SeriesDescription'].lower()): return 1\n",
    "    c = row['ContrastBolusAgent']\n",
    "    if type(c) == str: return 1\n",
    "    return 0\n"
   ]
  },
  {
   "cell_type": "code",
   "execution_count": 9,
   "metadata": {},
   "outputs": [],
   "source": [
    "row = {'SeriesDescription': 'ax t1 +c', 'ContrastBolusAgent': 'Gadavist'}\n",
    "row1 = {'SeriesDescription': 'ax t1', 'ContrastBolusAgent': np.nan}\n",
    "row2 = {'SeriesDescription': 'ax t1', 'ContrastBolusAgent': 'Gadavist'} # example of discordant SD\n",
    "row3 = {'SeriesDescription': 'AX T1 POST', 'ContrastBolusAgent': np.nan} # also discordant\n",
    "\n",
    "assert detect_contrast(row) == 1\n",
    "assert detect_contrast(row1) == 0\n",
    "assert detect_contrast(row2) == 1\n",
    "assert detect_contrast(row3) == 1"
   ]
  },
  {
   "cell_type": "code",
   "execution_count": 10,
   "metadata": {},
   "outputs": [],
   "source": [
    "#export\n",
    "_re_extra_info = re.compile(r'[<([].*?[\\])>]')\n"
   ]
  },
  {
   "cell_type": "code",
   "execution_count": 11,
   "metadata": {},
   "outputs": [],
   "source": [
    "#export\n",
    "def rm_extra_info(t):\n",
    "    \"Remove extraneous info in closures\"\n",
    "    return _re_extra_info.sub('', t).strip()\n"
   ]
  },
  {
   "cell_type": "code",
   "execution_count": 12,
   "metadata": {},
   "outputs": [],
   "source": [
    "assert rm_extra_info('ax t1 <mpr>') == 'ax t1'\n",
    "assert rm_extra_info('adc (mm^2/s)') == 'adc'\n",
    "assert rm_extra_info('ax t1 [date]') == 'ax t1'"
   ]
  },
  {
   "cell_type": "code",
   "execution_count": 13,
   "metadata": {},
   "outputs": [],
   "source": [
    "#export\n",
    "_t1 = re.compile(r't1')\n",
    "_spgr = re.compile(r'spgr|mprage')\n",
    "_t2 = re.compile(r't2')\n",
    "_flair = re.compile(r'flair')\n",
    "_swi = re.compile(r'swi|gre|susc|mag|pha|sw')\n",
    "_adc = re.compile(r'adc|apparent')\n",
    "_eadc = re.compile(r'exp|eadc')\n",
    "_dwi = re.compile(r'diff|dwi|trace')\n",
    "_mra = re.compile(r'mra|angio|cow|tof|mip')\n",
    "_loc = re.compile(r'loc|scout')\n"
   ]
  },
  {
   "cell_type": "code",
   "execution_count": 14,
   "metadata": {},
   "outputs": [],
   "source": [
    "#export\n",
    "def _find_seq(sd):\n",
    "    if _t1.search(sd):\n",
    "        if _spgr.search(sd): return 'spgr'\n",
    "        else: return 't1'\n",
    "    if _spgr.search(sd): return 'spgr'\n",
    "    if _t2.search(sd):\n",
    "        if _flair.search(sd): return 'flair'\n",
    "        elif _swi.search(sd): return 'swi'\n",
    "        else: return 't2'\n",
    "    if _flair.search(sd): return 'flair'\n",
    "    if _swi.search(sd): return 'swi'\n",
    "    if _adc.search(sd):\n",
    "        if _eadc.search(sd): return 'other'\n",
    "        else: return 'adc'\n",
    "    if _dwi.search(sd):\n",
    "        if _eadc.search(sd): return 'other'\n",
    "        else: return 'dwi'\n",
    "    if _mra.search(sd): return 'mra'\n",
    "    if _loc.search(sd): return 'loc'\n",
    "    return 'unknown'\n"
   ]
  },
  {
   "cell_type": "code",
   "execution_count": 15,
   "metadata": {},
   "outputs": [],
   "source": [
    "def test_find_seq(sd, targ): assert _find_seq(sd) == targ\n",
    "\n",
    "test_find_seq('ax t1 +c', 't1')\n",
    "test_find_seq('ax t1 flair +c', 't1')\n",
    "test_find_seq('ax t2 +c', 't2')\n",
    "test_find_seq('ax t2 flair', 'flair')\n",
    "test_find_seq('ax t2 gre', 'swi')\n",
    "test_find_seq('ax swi', 'swi')\n",
    "test_find_seq('ax susc', 'swi')\n",
    "test_find_seq('adc', 'adc')\n",
    "test_find_seq('eadc', 'other')\n",
    "test_find_seq('ax dwi', 'dwi')\n",
    "test_find_seq('ax diffusion', 'dwi')\n",
    "test_find_seq('ax spgr +c', 'spgr')\n",
    "test_find_seq('localizer', 'loc')\n"
   ]
  },
  {
   "cell_type": "code",
   "execution_count": 16,
   "metadata": {},
   "outputs": [],
   "source": [
    "#export\n",
    "def _extract_label(sd):\n",
    "    t = rm_extra_info(sd.lower())\n",
    "    return _find_seq(t)\n"
   ]
  },
  {
   "cell_type": "code",
   "execution_count": 17,
   "metadata": {},
   "outputs": [],
   "source": [
    "assert _extract_label('ax t1 +c') == 't1'\n",
    "assert _extract_label('ax t1 +c [date]') == 't1'\n",
    "assert _extract_label('<MPR Thick Range>') == 'unknown'"
   ]
  },
  {
   "cell_type": "code",
   "execution_count": 18,
   "metadata": {},
   "outputs": [],
   "source": [
    "#export\n",
    "def extract_labels(df):\n",
    "    \"Extract candidate labels from Series Descriptions and computed plane\"\n",
    "    df1 = df[['fname', 'SeriesDescription']].copy()\n",
    "    df1['fname'] = df1.fname.apply(get_series_fp)\n",
    "    df1['plane'] = df.apply(compute_plane, axis=1)\n",
    "    df1['seq_label'] = df1.SeriesDescription.apply(_extract_label)\n",
    "    df1['contrast'] = df.apply(detect_contrast, axis=1)\n",
    "    return df1\n"
   ]
  },
  {
   "cell_type": "code",
   "execution_count": 19,
   "metadata": {},
   "outputs": [],
   "source": [
    "#export\n",
    "_keep = [\n",
    "    'fname',\n",
    "    'SeriesDescription',\n",
    "    'ImageOrientationPatient',\n",
    "    'ScanningSequence',\n",
    "    'SequenceVariant',\n",
    "    'ScanOptions',\n",
    "    'MRAcquisitionType',\n",
    "    'AngioFlag',\n",
    "    'SliceThickness',\n",
    "    'RepetitionTime',\n",
    "    'EchoTime',\n",
    "    'EchoTrainLength',\n",
    "    'PixelSpacing',\n",
    "    'ContrastBolusAgent',\n",
    "    'InversionTime',\n",
    "    'DiffusionBValue'\n",
    "]\n",
    "\n",
    "_dummies = [\n",
    "    'ScanningSequence',\n",
    "    'SequenceVariant',\n",
    "    'ScanOptions'\n",
    "]\n",
    "\n",
    "_d_prefixes = [\n",
    "    'seq',\n",
    "    'var',\n",
    "    'opt'\n",
    "]\n",
    "\n",
    "_binarize = [\n",
    "    'MRAcquisitionType',\n",
    "    'AngioFlag',\n",
    "    'ContrastBolusAgent',\n",
    "    'DiffusionBValue'\n",
    "]\n",
    "\n",
    "_rescale = [\n",
    "    'SliceThickness',\n",
    "    'RepetitionTime',\n",
    "    'EchoTime',\n",
    "    'EchoTrainLength',\n",
    "    'PixelSpacing',\n",
    "    'InversionTime'\n",
    "]"
   ]
  },
  {
   "cell_type": "code",
   "execution_count": 20,
   "metadata": {},
   "outputs": [],
   "source": [
    "#export\n",
    "def _make_col_binary(df, col):\n",
    "    s = df[col].isna()\n",
    "    if any(s):\n",
    "        df[col] = s.apply(lambda x: 0 if x else 1)\n",
    "    else:\n",
    "        targ = df.loc[0, col]\n",
    "        df[col] = df[col].apply(lambda x: 0 if x == targ else 1)\n"
   ]
  },
  {
   "cell_type": "code",
   "execution_count": 21,
   "metadata": {},
   "outputs": [],
   "source": [
    "#export\n",
    "def make_binary_cols(df, cols):\n",
    "    df1 = df.copy()\n",
    "    for col in cols:\n",
    "        _make_col_binary(df1, col)\n",
    "    return df1\n"
   ]
  },
  {
   "cell_type": "code",
   "execution_count": 22,
   "metadata": {},
   "outputs": [],
   "source": [
    "#export\n",
    "def rescale_cols(df, cols):\n",
    "    df1 = df.copy()\n",
    "    scaler = MinMaxScaler()\n",
    "    df1[cols] = scaler.fit_transform(df1[cols])\n",
    "    return df1.fillna(0)\n"
   ]
  },
  {
   "cell_type": "code",
   "execution_count": 23,
   "metadata": {},
   "outputs": [],
   "source": [
    "#export\n",
    "def get_dummies(df, cols, prefix=None):\n",
    "    df1 = df.copy()\n",
    "    for i, col in enumerate(cols):\n",
    "        df1[col].fillna('NONE', inplace=True)\n",
    "        mlb = MultiLabelBinarizer()\n",
    "        df1 = df1.join(\n",
    "            pd.DataFrame(mlb.fit_transform(df1.pop(col)), columns=mlb.classes_).add_prefix(f'{prefix[i]}_')\n",
    "        )\n",
    "    return df1\n"
   ]
  },
  {
   "cell_type": "code",
   "execution_count": 24,
   "metadata": {},
   "outputs": [],
   "source": [
    "#export\n",
    "_features = ['MRAcquisitionType', 'AngioFlag', 'SliceThickness', 'RepetitionTime',\n",
    "       'EchoTime', 'EchoTrainLength', 'PixelSpacing', 'ContrastBolusAgent',\n",
    "       'InversionTime', 'DiffusionBValue', 'seq_E', 'seq_EP', 'seq_G',\n",
    "       'seq_GR', 'seq_I', 'seq_IR', 'seq_M', 'seq_P', 'seq_R', 'seq_S',\n",
    "       'seq_SE', 'var_E', 'var_K', 'var_MP', 'var_MTC', 'var_N', 'var_O',\n",
    "       'var_OSP', 'var_P', 'var_S', 'var_SK', 'var_SP', 'var_SS', 'var_TOF',\n",
    "       'opt_1', 'opt_2', 'opt_A', 'opt_ACC_GEMS', 'opt_B', 'opt_C', 'opt_D',\n",
    "       'opt_E', 'opt_EDR_GEMS', 'opt_EPI_GEMS', 'opt_F', 'opt_FAST_GEMS',\n",
    "       'opt_FC', 'opt_FC_FREQ_AX_GEMS', 'opt_FC_SLICE_AX_GEMS',\n",
    "       'opt_FILTERED_GEMS', 'opt_FR_GEMS', 'opt_FS', 'opt_FSA_GEMS',\n",
    "       'opt_FSI_GEMS', 'opt_FSL_GEMS', 'opt_FSP_GEMS', 'opt_FSS_GEMS', 'opt_G',\n",
    "       'opt_I', 'opt_IFLOW_GEMS', 'opt_IR', 'opt_IR_GEMS', 'opt_L', 'opt_M',\n",
    "       'opt_MP_GEMS', 'opt_MT', 'opt_MT_GEMS', 'opt_NPW', 'opt_P', 'opt_PFF',\n",
    "       'opt_PFP', 'opt_PROP_GEMS', 'opt_R', 'opt_RAMP_IS_GEMS', 'opt_S',\n",
    "       'opt_SAT1', 'opt_SAT2', 'opt_SAT_GEMS', 'opt_SEQ_GEMS', 'opt_SP',\n",
    "       'opt_T', 'opt_T2FLAIR_GEMS', 'opt_TRF_GEMS', 'opt_VASCTOF_GEMS',\n",
    "       'opt_VB_GEMS', 'opt_W', 'opt_X', 'opt__']"
   ]
  },
  {
   "cell_type": "code",
   "execution_count": 25,
   "metadata": {},
   "outputs": [],
   "source": [
    "#export\n",
    "def preprocess(df, keepers=_keep, dummies=_dummies, d_prefixes=_d_prefixes, binarize=_binarize, rescale=_rescale):\n",
    "    df1 = exclude_other(df)\n",
    "    df1 = df1[keepers]\n",
    "    df1['PixelSpacing'] = df1['PixelSpacing'].apply(lambda x: x[0])\n",
    "    df1 = get_dummies(df1, dummies, d_prefixes)\n",
    "    df1 = make_binary_cols(df1, binarize)\n",
    "    df1 = rescale_cols(df1, rescale)\n",
    "    for f in _features:\n",
    "        if f not in df1.columns:\n",
    "            df1[f] = 0\n",
    "    return df1\n"
   ]
  }
 ],
 "metadata": {
  "kernelspec": {
   "display_name": "Python 3",
   "language": "python",
   "name": "python3"
  },
  "language_info": {
   "codemirror_mode": {
    "name": "ipython",
    "version": 3
   },
   "file_extension": ".py",
   "mimetype": "text/x-python",
   "name": "python",
   "nbconvert_exporter": "python",
   "pygments_lexer": "ipython3",
   "version": "3.7.8"
  }
 },
 "nbformat": 4,
 "nbformat_minor": 4
}
