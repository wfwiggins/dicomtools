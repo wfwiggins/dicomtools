{
 "cells": [
  {
   "cell_type": "code",
   "execution_count": null,
   "metadata": {},
   "outputs": [],
   "source": [
    "# default_exp series.train"
   ]
  },
  {
   "cell_type": "markdown",
   "metadata": {},
   "source": [
    "# series.train\n",
    "> Methods for training a `RandomForestClassifier` from `scikit-learn` to classify MRI series types."
   ]
  },
  {
   "cell_type": "code",
   "execution_count": null,
   "metadata": {},
   "outputs": [],
   "source": [
    "#export\n",
    "from dicomtools.basics import *\n",
    "from sklearn.ensemble import RandomForestClassifier\n",
    "\n",
    "np.random.seed(42)"
   ]
  },
  {
   "cell_type": "code",
   "execution_count": null,
   "metadata": {},
   "outputs": [],
   "source": [
    "#export\n",
    "def train_setup(df):\n",
    "    \"Extract labels for training data and use 'unknown' as test set\"\n",
    "    df1 = preprocess(df)\n",
    "    labels = extract_labels(df1)\n",
    "    df1 = df1.join(labels[['plane', 'contrast', 'seq_label']])\n",
    "    filt = df1['seq_label'] == 'unknown'\n",
    "    train = df1[~filt].copy().reset_index(drop=True)\n",
    "    test = df1[filt].copy().reset_index(drop=True)\n",
    "    y, y_names = pd.factorize(train['seq_label'])\n",
    "    return train, test, y, y_names\n"
   ]
  },
  {
   "cell_type": "code",
   "execution_count": null,
   "metadata": {},
   "outputs": [],
   "source": [
    "#export\n",
    "def train_fit(train, y, features, fname='model-run.skl'):\n",
    "    \"Train a Random Forest classifier on `train[features]` and `y`, then save to `fname` and return.\"\n",
    "    clf = RandomForestClassifier(n_jobs=2, random_state=0)\n",
    "    clf.fit(train[features], y)\n",
    "    dump(clf, fname)\n",
    "    return clf\n"
   ]
  },
  {
   "cell_type": "code",
   "execution_count": null,
   "metadata": {},
   "outputs": [],
   "source": []
  }
 ],
 "metadata": {
  "kernelspec": {
   "display_name": "Python 3",
   "language": "python",
   "name": "python3"
  }
 },
 "nbformat": 4,
 "nbformat_minor": 4
}
