{
 "cells": [
  {
   "cell_type": "code",
   "execution_count": null,
   "metadata": {},
   "outputs": [],
   "source": [
    "# default_exp core"
   ]
  },
  {
   "cell_type": "markdown",
   "metadata": {},
   "source": [
    "# core\n",
    "\n",
    "> Core utilities for working with DICOM files. Utilizes the `pydicom` and `fastcore` packages. Some ideas borrowed from [fastai.medical.image](https://github.com/fastai/fastai/blob/master/fastai/medical/imaging.py)."
   ]
  },
  {
   "cell_type": "code",
   "execution_count": 2,
   "metadata": {},
   "outputs": [],
   "source": [
    "#hide\n",
    "from nbdev.showdoc import *"
   ]
  },
  {
   "cell_type": "code",
   "execution_count": 3,
   "metadata": {},
   "outputs": [],
   "source": [
    "#export\n",
    "from dicomtools.basics import *\n",
    "\n",
    "import pydicom\n",
    "from pydicom.dataset import Dataset as DcmDataset\n",
    "from pydicom.tag import BaseTag as DcmTag\n",
    "from pydicom.multival import MultiValue as DcmMultiValue"
   ]
  },
  {
   "cell_type": "code",
   "execution_count": 4,
   "metadata": {},
   "outputs": [],
   "source": [
    "#export\n",
    "@patch\n",
    "def dcmread(fn: Path, no_pixels=True, force=True):\n",
    "    \"Reads a DICOM file and returns the corresponding pydicom.Dataset\"\n",
    "    return pydicom.dcmread(str(fn), stop_before_pixels=no_pixels, force=force)"
   ]
  },
  {
   "cell_type": "code",
   "execution_count": 5,
   "metadata": {},
   "outputs": [],
   "source": [
    "#export\n",
    "def _cast_dicom_special(x):\n",
    "    cls = type(x)\n",
    "    if not cls.__module__.startswith('pydicom'): return x\n",
    "    if cls.__base__ == object: return x\n",
    "    return cls.__base__(x)\n",
    "\n",
    "def _split_elem(res, k, v):\n",
    "    if not isinstance(v, DcmMultiValue): return\n",
    "    for i, o in enumerate(v): res[f'{k}{\"\" if i == 0 else i}'] = o"
   ]
  },
  {
   "cell_type": "code",
   "execution_count": 6,
   "metadata": {},
   "outputs": [],
   "source": [
    "#export\n",
    "_cols = [\n",
    "    'SeriesDescription', # needed for labeling series\n",
    "    'SequenceName', # may be used for labeling series\n",
    "    'StudyDescription', # to filter on \"MRI BRAIN WITH AND WITHOUT CONTRAST\" in some cases\n",
    "    'SOPClassUID', # to filter on \"MR Image Storage\"\n",
    "    'BodyPartExamined', # to filter on \"HEAD\" or \"BRAIN\"\n",
    "    'ImageOrientationPatient', # to calculate slice orientation (e.g. axial, coronal, sagittal)\n",
    "    'EchoTime',\n",
    "    'InversionTime',\n",
    "    'EchoTrainLength',\n",
    "    'RepetitionTime',\n",
    "    'TriggerTime',\n",
    "    'SequenceVariant',\n",
    "    'ScanOptions',\n",
    "    'ScanningSequence',\n",
    "    'MRAcquisitionType',\n",
    "    'ImageType',\n",
    "    'PixelSpacing',\n",
    "    'SliceThickness',\n",
    "    'PhotometricInterpretation',\n",
    "    'ContrastBolusAgent',\n",
    "    'AngioFlag', # addition to list from paper\n",
    "    'DiffusionBValue' # addition to list from paper\n",
    "]"
   ]
  },
  {
   "cell_type": "code",
   "execution_count": 7,
   "metadata": {},
   "outputs": [],
   "source": [
    "#export\n",
    "@patch\n",
    "def as_dict(self: DcmDataset, filt=True, split_multi=False):\n",
    "    if filt:\n",
    "        vals = [self[o] for o in self.keys() if self[o].keyword in _cols]\n",
    "    else:\n",
    "        vals = [self[o] for o in self.keys()]\n",
    "    items = [(v.keyword, v.value.name) if v.keyword == 'SOPClassUID' else (v.keyword, v.value) for v in vals]\n",
    "    res = dict(items)\n",
    "    res['fname'] = self.filename\n",
    "    if split_multi:\n",
    "        for k, v in items: _split_elem(res, k, v)\n",
    "        for k in res: res[k] = _cast_dicom_special(res[k])\n",
    "    return res"
   ]
  },
  {
   "cell_type": "code",
   "execution_count": 8,
   "metadata": {},
   "outputs": [],
   "source": [
    "#export\n",
    "def _dcm2dict(fn, excl_private=False, **kwargs): \n",
    "    ds = fn.dcmread(**kwargs)\n",
    "    if excl_private: ds.remove_private_tags()\n",
    "    return ds.as_dict(**kwargs)"
   ]
  },
  {
   "cell_type": "code",
   "execution_count": 9,
   "metadata": {},
   "outputs": [],
   "source": [
    "#export\n",
    "@delegates(parallel)\n",
    "def _from_dicoms(cls, fns, n_workers=0, **kwargs):\n",
    "    return pd.DataFrame(parallel(_dcm2dict, fns, n_workers=n_workers, **kwargs))\n",
    "pd.DataFrame.from_dicoms = classmethod(_from_dicoms)"
   ]
  },
  {
   "cell_type": "code",
   "execution_count": null,
   "metadata": {},
   "outputs": [],
   "source": []
  }
 ],
 "metadata": {
  "kernelspec": {
   "display_name": "Python 3",
   "language": "python",
   "name": "python3"
  },
  "language_info": {
   "codemirror_mode": {
    "name": "ipython",
    "version": 3
   },
   "file_extension": ".py",
   "mimetype": "text/x-python",
   "name": "python",
   "nbconvert_exporter": "python",
   "pygments_lexer": "ipython3",
   "version": "3.7.8"
  }
 },
 "nbformat": 4,
 "nbformat_minor": 4
}
