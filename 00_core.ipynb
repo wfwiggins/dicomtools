{
 "cells": [
  {
   "cell_type": "code",
   "execution_count": null,
   "metadata": {},
   "outputs": [],
   "source": [
    "# default_exp core"
   ]
  },
  {
   "cell_type": "markdown",
   "metadata": {},
   "source": [
    "# core\n",
    "\n",
    "> Core utilities for working with DICOM files. Utilizes the `pydicom` and `fastcore` packages. Some ideas borrowed from [fastai.medical.image](https://github.com/fastai/fastai/blob/master/fastai/medical/imaging.py)."
   ]
  },
  {
   "cell_type": "code",
   "execution_count": null,
   "metadata": {},
   "outputs": [],
   "source": [
    "#hide\n",
    "from nbdev.showdoc import *"
   ]
  },
  {
   "cell_type": "code",
   "execution_count": null,
   "metadata": {},
   "outputs": [],
   "source": [
    "#export\n",
    "import pandas as pd\n",
    "import pydicom\n",
    "\n",
    "from fastcore.all import *\n",
    "from pydicom.dataset import Dataset as DcmDataset\n",
    "from pydicom.tag import BaseTag as DcmTag\n",
    "from pydicom.multival import MultiValue as DcmMultiValue\n",
    "from typing import Union"
   ]
  },
  {
   "cell_type": "code",
   "execution_count": null,
   "metadata": {},
   "outputs": [],
   "source": [
    "#export\n",
    "study_tags = {\n",
    "    'Study Instance UID': (0x0020, 0x000d),\n",
    "    'Series Instance UID': (0x0020, 0x000e),\n",
    "    'SOP Class UID': (0x0008, 0x0016), # e.g. \"MR Image Storage\"\n",
    "    'SOP Instance UID': (0x0008, 0x0018),\n",
    "    'Study Description': (0x0008, 0x1030),\n",
    "    'Study Date': (0x0008, 0x0020),\n",
    "    'Series Description': (0x0008, 0x103e),\n",
    "    'Patient ID': (0x0010, 0x0020),\n",
    "    'Series Number': (0x0020, 0x0011),\n",
    "    'Instance Number': (0x0020, 0x0013),\n",
    "    'Window Center': (0x0028, 0x1050),\n",
    "    'Window Level': (0x0028, 0x1051)\n",
    "}"
   ]
  },
  {
   "cell_type": "code",
   "execution_count": null,
   "metadata": {},
   "outputs": [],
   "source": [
    "#export\n",
    "@patch\n",
    "def dcmread(fn: Path, no_pixels=True, force=True):\n",
    "    \"Reads a DICOM file and returns the corresponding pydicom.Dataset\"\n",
    "    return pydicom.dcmread(str(fn), stop_before_pixels=no_pixels, force=force)"
   ]
  },
  {
   "cell_type": "code",
   "execution_count": null,
   "metadata": {},
   "outputs": [],
   "source": [
    "#export\n",
    "def _cast_dicom_special(x):\n",
    "    cls = type(x)\n",
    "    if not cls.__module__.startswith('pydicom'): return x\n",
    "    if cls.__base__ == object: return x\n",
    "    return cls.__base__(x)\n",
    "\n",
    "def _split_elem(res, k, v):\n",
    "    if not isinstance(v, DcmMultiValue): return\n",
    "    res[f'Multi{k}'] = 1\n",
    "    for i, o in enumerate(v): res[f'{k}{\"\" if i == 0 else i}'] = o"
   ]
  },
  {
   "cell_type": "code",
   "execution_count": null,
   "metadata": {},
   "outputs": [],
   "source": [
    "#export\n",
    "@patch\n",
    "def as_dict(self: DcmDataset):\n",
    "    vals = [self[o] for o in self.keys() if (o in study_tags.values() or o in self.group_dataset(0x0018).keys())]\n",
    "    items = [(v.keyword, v.value.name) if v.keyword == 'SOPClassUID' else (v.keyword, v.value) for v in vals]\n",
    "    res = dict(items)\n",
    "    res['fname'] = self.filename\n",
    "    for k, v in items: _split_elem(res, k, v)\n",
    "    for k in res: res[k] = _cast_dicom_special(res[k])\n",
    "    return res"
   ]
  },
  {
   "cell_type": "code",
   "execution_count": null,
   "metadata": {},
   "outputs": [],
   "source": [
    "#export\n",
    "def _dcm2dict(fn, incl_private=False, **kwargs):\n",
    "    if incl_private:\n",
    "        return fn.dcmread(**kwargs).as_dict()\n",
    "    else:\n",
    "        ds = fn.dcmread(**kwargs)\n",
    "        ds.remove_private_tags()\n",
    "        return ds.as_dict()"
   ]
  },
  {
   "cell_type": "code",
   "execution_count": null,
   "metadata": {},
   "outputs": [],
   "source": [
    "#export\n",
    "@delegates(parallel)\n",
    "def _from_dicoms(cls, fns, n_workers=0, **kwargs):\n",
    "    return pd.DataFrame(parallel(_dcm2dict, fns, n_workers=n_workers, **kwargs))\n",
    "pd.DataFrame.from_dicoms = classmethod(_from_dicoms)"
   ]
  },
  {
   "cell_type": "code",
   "execution_count": null,
   "metadata": {},
   "outputs": [],
   "source": []
  }
 ],
 "metadata": {
  "kernelspec": {
   "display_name": "Python 3",
   "language": "python",
   "name": "python3"
  }
 },
 "nbformat": 4,
 "nbformat_minor": 2
}
